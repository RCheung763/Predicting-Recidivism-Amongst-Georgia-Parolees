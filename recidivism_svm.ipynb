{
  "nbformat": 4,
  "nbformat_minor": 0,
  "metadata": {
    "colab": {
      "provenance": [],
      "collapsed_sections": [
        "MklN6pWbLbJa",
        "3HHIqZjhLlHj"
      ]
    },
    "kernelspec": {
      "name": "python3",
      "display_name": "Python 3"
    },
    "language_info": {
      "name": "python"
    }
  },
  "cells": [
    {
      "cell_type": "markdown",
      "source": [
        "## Imports, Data Loading, Filtering"
      ],
      "metadata": {
        "id": "GyQA5sf_NqMO"
      }
    },
    {
      "cell_type": "code",
      "source": [
        "import pandas as pd\n",
        "import numpy as np\n",
        "import matplotlib.pyplot as plt\n",
        "import seaborn as sns\n",
        "import time\n",
        "from sklearn.preprocessing import StandardScaler, OneHotEncoder\n",
        "\n",
        "from sklearn.ensemble import RandomForestClassifier\n",
        "from sklearn.metrics import accuracy_score, confusion_matrix, precision_score, recall_score, ConfusionMatrixDisplay\n",
        "from sklearn.model_selection import RandomizedSearchCV, train_test_split\n",
        "from scipy.stats import randint\n",
        "from sklearn.tree import export_graphviz\n",
        "from IPython.display import Image\n",
        "import graphviz\n",
        "from sklearn.model_selection import train_test_split\n",
        "from sklearn.svm import SVC\n",
        "from sklearn.metrics import accuracy_score, classification_report\n",
        "from sklearn.model_selection import GridSearchCV\n",
        "\n"
      ],
      "metadata": {
        "id": "2owTgR1VI9dt"
      },
      "execution_count": null,
      "outputs": []
    },
    {
      "cell_type": "code",
      "execution_count": null,
      "metadata": {
        "colab": {
          "base_uri": "https://localhost:8080/"
        },
        "id": "LQigXZVBDwU7",
        "outputId": "c88f2728-276b-4c59-b374-982c23141146"
      },
      "outputs": [
        {
          "output_type": "stream",
          "name": "stdout",
          "text": [
            "(25835, 54)\n"
          ]
        }
      ],
      "source": [
        "# Loading Data\n",
        "url = \"https://raw.githubusercontent.com/gringler8/data5322project/main/NIJ_s_Recidivism_Challenge_Full_Dataset_20240520.csv\"\n",
        "data = pd.read_csv(url)\n",
        "print(data.shape)"
      ]
    },
    {
      "cell_type": "markdown",
      "source": [
        "### General Filtering and cleaning:"
      ],
      "metadata": {
        "id": "mjUdUB1mqb1M"
      }
    },
    {
      "cell_type": "code",
      "source": [
        "# Replace NA/blanks in Gang_Affiliated with \"Unknown\"\n",
        "data['Gang_Affiliated'] = data['Gang_Affiliated'].fillna('Unknown')\n",
        "\n",
        "# Filter out rows with any NAs in the entire dataset\n",
        "filtered_data = data.dropna().copy()\n",
        "\n",
        "# Convert specified columns to categorical variables\n",
        "categorical_columns = [\n",
        "    'Gender',\n",
        "    'Race',\n",
        "    'Age_at_Release',\n",
        "    'Gang_Affiliated',\n",
        "    'Supervision_Level_First',\n",
        "    'Education_Level',\n",
        "    'Prison_Offense',\n",
        "    'Prison_Years',\n",
        "    'Prior_Arrest_Episodes_DVCharges',\n",
        "    'Prior_Arrest_Episodes_GunCharges',\n",
        "    'Prior_Conviction_Episodes_Viol',\n",
        "    'Prior_Conviction_Episodes_PPViolationCharges',\n",
        "    'Prior_Conviction_Episodes_DomesticViolenceCharges',\n",
        "    'Prior_Conviction_Episodes_GunCharges',\n",
        "    'Prior_Revocations_Parole',\n",
        "    'Prior_Revocations_Probation',\n",
        "    'Condition_MH_SA',\n",
        "    'Condition_Cog_Ed',\n",
        "    'Condition_Other',\n",
        "    'Violations_ElectronicMonitoring',\n",
        "    'Violations_Instruction',\n",
        "    'Violations_FailToReport',\n",
        "    'Violations_MoveWithoutPermission',\n",
        "    'Employment_Exempt'\n",
        "]\n",
        "\n",
        "for column in categorical_columns:\n",
        "    filtered_data[column] = filtered_data[column].astype(str)\n",
        "\n",
        "# Drop Gender (if not needed)\n",
        "#filtered_data = filtered_data.drop('Gender', axis=1)\n",
        "\n",
        "# Convert Supervision_Risk_Score_First to a categorical variable\n",
        "#filtered_data['Supervision_Risk_Score_First'] = filtered_data['Supervision_Risk_Score_First'].astype(str)\n",
        "\n",
        "# Clean and convert Avg_Days_per_DrugTest to float by removing commas\n",
        "filtered_data['Avg_Days_per_DrugTest'] = filtered_data['Avg_Days_per_DrugTest'].str.replace(',', '').astype(float)\n",
        "filtered_data['ID'] = filtered_data['ID'].str.replace(',', '').astype(float)\n",
        "\n",
        "# Update columns based on the conditions\n",
        "column_conditions = {\n",
        "    'Dependents': (3, '3 or more'),\n",
        "    'Prior_Arrest_Episodes_Felony': (10, '10 or more'),\n",
        "    'Prior_Arrest_Episodes_Misd': (6, '6 or more'),\n",
        "    'Prior_Arrest_Episodes_Violent': (3, '3 or more'),\n",
        "    'Prior_Arrest_Episodes_Property': (5, '5 or more'),\n",
        "    'Prior_Arrest_Episodes_Drug': (5, '5 or more'),\n",
        "    'Prior_Arrest_Episodes_PPViolationCharges': (5, '5 or more'),\n",
        "    'Prior_Conviction_Episodes_Felony': (3, '3 or more'),\n",
        "    'Prior_Conviction_Episodes_Misd': (4, '4 or more'),\n",
        "    'Prior_Conviction_Episodes_Prop': (3, '3 or more'),\n",
        "    'Prior_Conviction_Episodes_Drug': (2, '2 or more'),\n",
        "    'Delinquency_Reports': (4, '4 or more'),\n",
        "    'Program_Attendances': (10, '10 or more'),\n",
        "    'Program_UnexcusedAbsences': (3, '3 or more'),\n",
        "    'Residence_Changes': (3, '3 or more')\n",
        "}\n",
        "\n",
        "# Update the columns based on the conditions\n",
        "for column, (numeric_value, condition_str) in column_conditions.items():\n",
        "    filtered_data[column] = filtered_data[column].replace(condition_str, numeric_value).astype(int)\n",
        "\n",
        "# Columns to exclude from model creation\n",
        "columns_to_exclude = [\n",
        "    'Recidivism_Arrest_Year1',\n",
        "    'Recidivism_Arrest_Year2',\n",
        "    'Recidivism_Arrest_Year3',\n",
        "    'Training_Sample',\n",
        "    'ID'\n",
        "]\n",
        "\n",
        "# Keep a separate copy of the excluded columns\n",
        "excluded_columns_data = filtered_data[columns_to_exclude].copy()\n",
        "\n",
        "# Drop the excluded columns from the dataset used for model creation\n",
        "filtered_data_for_model = filtered_data.drop(columns=columns_to_exclude)\n"
      ],
      "metadata": {
        "id": "GX4B7_HWDx8n"
      },
      "execution_count": null,
      "outputs": []
    },
    {
      "cell_type": "code",
      "source": [
        "filtered_data_for_model.head()"
      ],
      "metadata": {
        "colab": {
          "base_uri": "https://localhost:8080/",
          "height": 342
        },
        "id": "SKyQHdq6xvx7",
        "outputId": "972aa8dc-0cb9-4568-e5f5-aeb38a19dd57"
      },
      "execution_count": null,
      "outputs": [
        {
          "output_type": "execute_result",
          "data": {
            "text/plain": [
              "  Gender   Race Age_at_Release  Residence_PUMA Gang_Affiliated  \\\n",
              "0      M  BLACK          43-47              16           False   \n",
              "1      M  BLACK          33-37              16           False   \n",
              "2      M  BLACK    48 or older              24           False   \n",
              "3      M  WHITE          38-42              16           False   \n",
              "4      M  WHITE          33-37              16           False   \n",
              "\n",
              "   Supervision_Risk_Score_First Supervision_Level_First  \\\n",
              "0                           3.0                Standard   \n",
              "1                           6.0             Specialized   \n",
              "2                           7.0                    High   \n",
              "3                           7.0                    High   \n",
              "4                           4.0             Specialized   \n",
              "\n",
              "         Education_Level  Dependents   Prison_Offense  ... Residence_Changes  \\\n",
              "0  At least some college           3             Drug  ...                 2   \n",
              "1   Less than HS diploma           1  Violent/Non-Sex  ...                 2   \n",
              "2  At least some college           3             Drug  ...                 0   \n",
              "3   Less than HS diploma           1         Property  ...                 3   \n",
              "4   Less than HS diploma           3  Violent/Non-Sex  ...                 0   \n",
              "\n",
              "   Avg_Days_per_DrugTest  DrugTests_THC_Positive  DrugTests_Cocaine_Positive  \\\n",
              "0             612.000000                0.000000                         0.0   \n",
              "1              35.666667                0.000000                         0.0   \n",
              "2              93.666667                0.333333                         0.0   \n",
              "3              25.400000                0.000000                         0.0   \n",
              "4              23.117647                0.000000                         0.0   \n",
              "\n",
              "   DrugTests_Meth_Positive  DrugTests_Other_Positive  Percent_Days_Employed  \\\n",
              "0                 0.000000                       0.0               0.488562   \n",
              "1                 0.000000                       0.0               0.425234   \n",
              "2                 0.166667                       0.0               0.000000   \n",
              "3                 0.000000                       0.0               1.000000   \n",
              "4                 0.058824                       0.0               0.203562   \n",
              "\n",
              "  Jobs_Per_Year Employment_Exempt  Recidivism_Within_3years  \n",
              "0      0.447610             False                     False  \n",
              "1      2.000000             False                      True  \n",
              "2      0.000000             False                      True  \n",
              "3      0.718996             False                     False  \n",
              "4      0.929389             False                      True  \n",
              "\n",
              "[5 rows x 49 columns]"
            ],
            "text/html": [
              "\n",
              "  <div id=\"df-d17abc16-ee5a-4443-8fc7-8ed165dd4526\" class=\"colab-df-container\">\n",
              "    <div>\n",
              "<style scoped>\n",
              "    .dataframe tbody tr th:only-of-type {\n",
              "        vertical-align: middle;\n",
              "    }\n",
              "\n",
              "    .dataframe tbody tr th {\n",
              "        vertical-align: top;\n",
              "    }\n",
              "\n",
              "    .dataframe thead th {\n",
              "        text-align: right;\n",
              "    }\n",
              "</style>\n",
              "<table border=\"1\" class=\"dataframe\">\n",
              "  <thead>\n",
              "    <tr style=\"text-align: right;\">\n",
              "      <th></th>\n",
              "      <th>Gender</th>\n",
              "      <th>Race</th>\n",
              "      <th>Age_at_Release</th>\n",
              "      <th>Residence_PUMA</th>\n",
              "      <th>Gang_Affiliated</th>\n",
              "      <th>Supervision_Risk_Score_First</th>\n",
              "      <th>Supervision_Level_First</th>\n",
              "      <th>Education_Level</th>\n",
              "      <th>Dependents</th>\n",
              "      <th>Prison_Offense</th>\n",
              "      <th>...</th>\n",
              "      <th>Residence_Changes</th>\n",
              "      <th>Avg_Days_per_DrugTest</th>\n",
              "      <th>DrugTests_THC_Positive</th>\n",
              "      <th>DrugTests_Cocaine_Positive</th>\n",
              "      <th>DrugTests_Meth_Positive</th>\n",
              "      <th>DrugTests_Other_Positive</th>\n",
              "      <th>Percent_Days_Employed</th>\n",
              "      <th>Jobs_Per_Year</th>\n",
              "      <th>Employment_Exempt</th>\n",
              "      <th>Recidivism_Within_3years</th>\n",
              "    </tr>\n",
              "  </thead>\n",
              "  <tbody>\n",
              "    <tr>\n",
              "      <th>0</th>\n",
              "      <td>M</td>\n",
              "      <td>BLACK</td>\n",
              "      <td>43-47</td>\n",
              "      <td>16</td>\n",
              "      <td>False</td>\n",
              "      <td>3.0</td>\n",
              "      <td>Standard</td>\n",
              "      <td>At least some college</td>\n",
              "      <td>3</td>\n",
              "      <td>Drug</td>\n",
              "      <td>...</td>\n",
              "      <td>2</td>\n",
              "      <td>612.000000</td>\n",
              "      <td>0.000000</td>\n",
              "      <td>0.0</td>\n",
              "      <td>0.000000</td>\n",
              "      <td>0.0</td>\n",
              "      <td>0.488562</td>\n",
              "      <td>0.447610</td>\n",
              "      <td>False</td>\n",
              "      <td>False</td>\n",
              "    </tr>\n",
              "    <tr>\n",
              "      <th>1</th>\n",
              "      <td>M</td>\n",
              "      <td>BLACK</td>\n",
              "      <td>33-37</td>\n",
              "      <td>16</td>\n",
              "      <td>False</td>\n",
              "      <td>6.0</td>\n",
              "      <td>Specialized</td>\n",
              "      <td>Less than HS diploma</td>\n",
              "      <td>1</td>\n",
              "      <td>Violent/Non-Sex</td>\n",
              "      <td>...</td>\n",
              "      <td>2</td>\n",
              "      <td>35.666667</td>\n",
              "      <td>0.000000</td>\n",
              "      <td>0.0</td>\n",
              "      <td>0.000000</td>\n",
              "      <td>0.0</td>\n",
              "      <td>0.425234</td>\n",
              "      <td>2.000000</td>\n",
              "      <td>False</td>\n",
              "      <td>True</td>\n",
              "    </tr>\n",
              "    <tr>\n",
              "      <th>2</th>\n",
              "      <td>M</td>\n",
              "      <td>BLACK</td>\n",
              "      <td>48 or older</td>\n",
              "      <td>24</td>\n",
              "      <td>False</td>\n",
              "      <td>7.0</td>\n",
              "      <td>High</td>\n",
              "      <td>At least some college</td>\n",
              "      <td>3</td>\n",
              "      <td>Drug</td>\n",
              "      <td>...</td>\n",
              "      <td>0</td>\n",
              "      <td>93.666667</td>\n",
              "      <td>0.333333</td>\n",
              "      <td>0.0</td>\n",
              "      <td>0.166667</td>\n",
              "      <td>0.0</td>\n",
              "      <td>0.000000</td>\n",
              "      <td>0.000000</td>\n",
              "      <td>False</td>\n",
              "      <td>True</td>\n",
              "    </tr>\n",
              "    <tr>\n",
              "      <th>3</th>\n",
              "      <td>M</td>\n",
              "      <td>WHITE</td>\n",
              "      <td>38-42</td>\n",
              "      <td>16</td>\n",
              "      <td>False</td>\n",
              "      <td>7.0</td>\n",
              "      <td>High</td>\n",
              "      <td>Less than HS diploma</td>\n",
              "      <td>1</td>\n",
              "      <td>Property</td>\n",
              "      <td>...</td>\n",
              "      <td>3</td>\n",
              "      <td>25.400000</td>\n",
              "      <td>0.000000</td>\n",
              "      <td>0.0</td>\n",
              "      <td>0.000000</td>\n",
              "      <td>0.0</td>\n",
              "      <td>1.000000</td>\n",
              "      <td>0.718996</td>\n",
              "      <td>False</td>\n",
              "      <td>False</td>\n",
              "    </tr>\n",
              "    <tr>\n",
              "      <th>4</th>\n",
              "      <td>M</td>\n",
              "      <td>WHITE</td>\n",
              "      <td>33-37</td>\n",
              "      <td>16</td>\n",
              "      <td>False</td>\n",
              "      <td>4.0</td>\n",
              "      <td>Specialized</td>\n",
              "      <td>Less than HS diploma</td>\n",
              "      <td>3</td>\n",
              "      <td>Violent/Non-Sex</td>\n",
              "      <td>...</td>\n",
              "      <td>0</td>\n",
              "      <td>23.117647</td>\n",
              "      <td>0.000000</td>\n",
              "      <td>0.0</td>\n",
              "      <td>0.058824</td>\n",
              "      <td>0.0</td>\n",
              "      <td>0.203562</td>\n",
              "      <td>0.929389</td>\n",
              "      <td>False</td>\n",
              "      <td>True</td>\n",
              "    </tr>\n",
              "  </tbody>\n",
              "</table>\n",
              "<p>5 rows × 49 columns</p>\n",
              "</div>\n",
              "    <div class=\"colab-df-buttons\">\n",
              "\n",
              "  <div class=\"colab-df-container\">\n",
              "    <button class=\"colab-df-convert\" onclick=\"convertToInteractive('df-d17abc16-ee5a-4443-8fc7-8ed165dd4526')\"\n",
              "            title=\"Convert this dataframe to an interactive table.\"\n",
              "            style=\"display:none;\">\n",
              "\n",
              "  <svg xmlns=\"http://www.w3.org/2000/svg\" height=\"24px\" viewBox=\"0 -960 960 960\">\n",
              "    <path d=\"M120-120v-720h720v720H120Zm60-500h600v-160H180v160Zm220 220h160v-160H400v160Zm0 220h160v-160H400v160ZM180-400h160v-160H180v160Zm440 0h160v-160H620v160ZM180-180h160v-160H180v160Zm440 0h160v-160H620v160Z\"/>\n",
              "  </svg>\n",
              "    </button>\n",
              "\n",
              "  <style>\n",
              "    .colab-df-container {\n",
              "      display:flex;\n",
              "      gap: 12px;\n",
              "    }\n",
              "\n",
              "    .colab-df-convert {\n",
              "      background-color: #E8F0FE;\n",
              "      border: none;\n",
              "      border-radius: 50%;\n",
              "      cursor: pointer;\n",
              "      display: none;\n",
              "      fill: #1967D2;\n",
              "      height: 32px;\n",
              "      padding: 0 0 0 0;\n",
              "      width: 32px;\n",
              "    }\n",
              "\n",
              "    .colab-df-convert:hover {\n",
              "      background-color: #E2EBFA;\n",
              "      box-shadow: 0px 1px 2px rgba(60, 64, 67, 0.3), 0px 1px 3px 1px rgba(60, 64, 67, 0.15);\n",
              "      fill: #174EA6;\n",
              "    }\n",
              "\n",
              "    .colab-df-buttons div {\n",
              "      margin-bottom: 4px;\n",
              "    }\n",
              "\n",
              "    [theme=dark] .colab-df-convert {\n",
              "      background-color: #3B4455;\n",
              "      fill: #D2E3FC;\n",
              "    }\n",
              "\n",
              "    [theme=dark] .colab-df-convert:hover {\n",
              "      background-color: #434B5C;\n",
              "      box-shadow: 0px 1px 3px 1px rgba(0, 0, 0, 0.15);\n",
              "      filter: drop-shadow(0px 1px 2px rgba(0, 0, 0, 0.3));\n",
              "      fill: #FFFFFF;\n",
              "    }\n",
              "  </style>\n",
              "\n",
              "    <script>\n",
              "      const buttonEl =\n",
              "        document.querySelector('#df-d17abc16-ee5a-4443-8fc7-8ed165dd4526 button.colab-df-convert');\n",
              "      buttonEl.style.display =\n",
              "        google.colab.kernel.accessAllowed ? 'block' : 'none';\n",
              "\n",
              "      async function convertToInteractive(key) {\n",
              "        const element = document.querySelector('#df-d17abc16-ee5a-4443-8fc7-8ed165dd4526');\n",
              "        const dataTable =\n",
              "          await google.colab.kernel.invokeFunction('convertToInteractive',\n",
              "                                                    [key], {});\n",
              "        if (!dataTable) return;\n",
              "\n",
              "        const docLinkHtml = 'Like what you see? Visit the ' +\n",
              "          '<a target=\"_blank\" href=https://colab.research.google.com/notebooks/data_table.ipynb>data table notebook</a>'\n",
              "          + ' to learn more about interactive tables.';\n",
              "        element.innerHTML = '';\n",
              "        dataTable['output_type'] = 'display_data';\n",
              "        await google.colab.output.renderOutput(dataTable, element);\n",
              "        const docLink = document.createElement('div');\n",
              "        docLink.innerHTML = docLinkHtml;\n",
              "        element.appendChild(docLink);\n",
              "      }\n",
              "    </script>\n",
              "  </div>\n",
              "\n",
              "\n",
              "<div id=\"df-7d102032-2cfb-4e64-a985-7c6be61a6e4b\">\n",
              "  <button class=\"colab-df-quickchart\" onclick=\"quickchart('df-7d102032-2cfb-4e64-a985-7c6be61a6e4b')\"\n",
              "            title=\"Suggest charts\"\n",
              "            style=\"display:none;\">\n",
              "\n",
              "<svg xmlns=\"http://www.w3.org/2000/svg\" height=\"24px\"viewBox=\"0 0 24 24\"\n",
              "     width=\"24px\">\n",
              "    <g>\n",
              "        <path d=\"M19 3H5c-1.1 0-2 .9-2 2v14c0 1.1.9 2 2 2h14c1.1 0 2-.9 2-2V5c0-1.1-.9-2-2-2zM9 17H7v-7h2v7zm4 0h-2V7h2v10zm4 0h-2v-4h2v4z\"/>\n",
              "    </g>\n",
              "</svg>\n",
              "  </button>\n",
              "\n",
              "<style>\n",
              "  .colab-df-quickchart {\n",
              "      --bg-color: #E8F0FE;\n",
              "      --fill-color: #1967D2;\n",
              "      --hover-bg-color: #E2EBFA;\n",
              "      --hover-fill-color: #174EA6;\n",
              "      --disabled-fill-color: #AAA;\n",
              "      --disabled-bg-color: #DDD;\n",
              "  }\n",
              "\n",
              "  [theme=dark] .colab-df-quickchart {\n",
              "      --bg-color: #3B4455;\n",
              "      --fill-color: #D2E3FC;\n",
              "      --hover-bg-color: #434B5C;\n",
              "      --hover-fill-color: #FFFFFF;\n",
              "      --disabled-bg-color: #3B4455;\n",
              "      --disabled-fill-color: #666;\n",
              "  }\n",
              "\n",
              "  .colab-df-quickchart {\n",
              "    background-color: var(--bg-color);\n",
              "    border: none;\n",
              "    border-radius: 50%;\n",
              "    cursor: pointer;\n",
              "    display: none;\n",
              "    fill: var(--fill-color);\n",
              "    height: 32px;\n",
              "    padding: 0;\n",
              "    width: 32px;\n",
              "  }\n",
              "\n",
              "  .colab-df-quickchart:hover {\n",
              "    background-color: var(--hover-bg-color);\n",
              "    box-shadow: 0 1px 2px rgba(60, 64, 67, 0.3), 0 1px 3px 1px rgba(60, 64, 67, 0.15);\n",
              "    fill: var(--button-hover-fill-color);\n",
              "  }\n",
              "\n",
              "  .colab-df-quickchart-complete:disabled,\n",
              "  .colab-df-quickchart-complete:disabled:hover {\n",
              "    background-color: var(--disabled-bg-color);\n",
              "    fill: var(--disabled-fill-color);\n",
              "    box-shadow: none;\n",
              "  }\n",
              "\n",
              "  .colab-df-spinner {\n",
              "    border: 2px solid var(--fill-color);\n",
              "    border-color: transparent;\n",
              "    border-bottom-color: var(--fill-color);\n",
              "    animation:\n",
              "      spin 1s steps(1) infinite;\n",
              "  }\n",
              "\n",
              "  @keyframes spin {\n",
              "    0% {\n",
              "      border-color: transparent;\n",
              "      border-bottom-color: var(--fill-color);\n",
              "      border-left-color: var(--fill-color);\n",
              "    }\n",
              "    20% {\n",
              "      border-color: transparent;\n",
              "      border-left-color: var(--fill-color);\n",
              "      border-top-color: var(--fill-color);\n",
              "    }\n",
              "    30% {\n",
              "      border-color: transparent;\n",
              "      border-left-color: var(--fill-color);\n",
              "      border-top-color: var(--fill-color);\n",
              "      border-right-color: var(--fill-color);\n",
              "    }\n",
              "    40% {\n",
              "      border-color: transparent;\n",
              "      border-right-color: var(--fill-color);\n",
              "      border-top-color: var(--fill-color);\n",
              "    }\n",
              "    60% {\n",
              "      border-color: transparent;\n",
              "      border-right-color: var(--fill-color);\n",
              "    }\n",
              "    80% {\n",
              "      border-color: transparent;\n",
              "      border-right-color: var(--fill-color);\n",
              "      border-bottom-color: var(--fill-color);\n",
              "    }\n",
              "    90% {\n",
              "      border-color: transparent;\n",
              "      border-bottom-color: var(--fill-color);\n",
              "    }\n",
              "  }\n",
              "</style>\n",
              "\n",
              "  <script>\n",
              "    async function quickchart(key) {\n",
              "      const quickchartButtonEl =\n",
              "        document.querySelector('#' + key + ' button');\n",
              "      quickchartButtonEl.disabled = true;  // To prevent multiple clicks.\n",
              "      quickchartButtonEl.classList.add('colab-df-spinner');\n",
              "      try {\n",
              "        const charts = await google.colab.kernel.invokeFunction(\n",
              "            'suggestCharts', [key], {});\n",
              "      } catch (error) {\n",
              "        console.error('Error during call to suggestCharts:', error);\n",
              "      }\n",
              "      quickchartButtonEl.classList.remove('colab-df-spinner');\n",
              "      quickchartButtonEl.classList.add('colab-df-quickchart-complete');\n",
              "    }\n",
              "    (() => {\n",
              "      let quickchartButtonEl =\n",
              "        document.querySelector('#df-7d102032-2cfb-4e64-a985-7c6be61a6e4b button');\n",
              "      quickchartButtonEl.style.display =\n",
              "        google.colab.kernel.accessAllowed ? 'block' : 'none';\n",
              "    })();\n",
              "  </script>\n",
              "</div>\n",
              "\n",
              "    </div>\n",
              "  </div>\n"
            ],
            "application/vnd.google.colaboratory.intrinsic+json": {
              "type": "dataframe",
              "variable_name": "filtered_data_for_model"
            }
          },
          "metadata": {},
          "execution_count": 4
        }
      ]
    },
    {
      "cell_type": "markdown",
      "source": [
        "### Model Filtering\n",
        "Options for one-hot encoded (with or without drop), dummy variable version (with drop), scaled and unscaled of each"
      ],
      "metadata": {
        "id": "_4yH4T5ctfv6"
      }
    },
    {
      "cell_type": "code",
      "source": [
        "# Filter to include only numerical columns and 'Recidivism_Within_3years'\n",
        "numerical_columns = filtered_data_for_model.select_dtypes(include=[np.number]).columns.tolist()\n",
        "numerical_columns.append('Recidivism_Within_3years')\n",
        "numeric_model_filter = filtered_data_for_model[numerical_columns]\n",
        "print(f\"Numeric Model Filter: {numeric_model_filter.shape}\")\n",
        "\n",
        "# Separate filter to include dummy variables and categoricals unscaled\n",
        "numerical_data = filtered_data_for_model[numerical_columns].reset_index(drop=True)\n",
        "categorical_data = pd.get_dummies(filtered_data_for_model[categorical_columns], drop_first=True).reset_index(drop=True)\n",
        "dummy_model_filter = pd.concat([numerical_data, categorical_data], axis=1)\n",
        "print(f\"Dummy Model Filter: {dummy_model_filter.shape}\")\n",
        "\n",
        "# Separate filter to scale all dummy variables and numerical variables\n",
        "scaler = StandardScaler()\n",
        "columns_to_scale = dummy_model_filter.columns.difference(['Recidivism_Within_3years'])\n",
        "dummy_model_filter_scaled = dummy_model_filter.copy()\n",
        "dummy_model_filter_scaled[columns_to_scale] = scaler.fit_transform(dummy_model_filter[columns_to_scale])\n",
        "print(f\"Scaled Dummy Model Filter: {dummy_model_filter_scaled.shape}\")"
      ],
      "metadata": {
        "colab": {
          "base_uri": "https://localhost:8080/"
        },
        "id": "SK0KMMn4tfBg",
        "outputId": "e65d66aa-c711-43a1-8646-f826a0675f4d"
      },
      "execution_count": null,
      "outputs": [
        {
          "output_type": "stream",
          "name": "stdout",
          "text": [
            "Numeric Model Filter: (16198, 25)\n",
            "Dummy Model Filter: (16198, 62)\n",
            "Scaled Dummy Model Filter: (16198, 62)\n"
          ]
        }
      ]
    },
    {
      "cell_type": "code",
      "source": [
        "# Check the data types of all columns\n",
        "print(Unscaled One-Hot Encoded Filter.dtypes)\n"
      ],
      "metadata": {
        "id": "2kds8iHEPCtU",
        "colab": {
          "base_uri": "https://localhost:8080/",
          "height": 106
        },
        "outputId": "1489dd1b-faff-4e5b-9614-60bc3d309b8a"
      },
      "execution_count": null,
      "outputs": [
        {
          "output_type": "error",
          "ename": "SyntaxError",
          "evalue": "invalid syntax. Perhaps you forgot a comma? (<ipython-input-1-0c6aa5bd7b83>, line 2)",
          "traceback": [
            "\u001b[0;36m  File \u001b[0;32m\"<ipython-input-1-0c6aa5bd7b83>\"\u001b[0;36m, line \u001b[0;32m2\u001b[0m\n\u001b[0;31m    print(Unscaled One-Hot Encoded Filter.dtypes)\u001b[0m\n\u001b[0m          ^\u001b[0m\n\u001b[0;31mSyntaxError\u001b[0m\u001b[0;31m:\u001b[0m invalid syntax. Perhaps you forgot a comma?\n"
          ]
        }
      ]
    },
    {
      "cell_type": "code",
      "source": [
        "# Identify columns with boolean values\n",
        "boolean_columns = filtered_data_for_model.select_dtypes(include=bool).columns\n",
        "\n",
        "# Identify columns with string values\n",
        "string_columns = filtered_data_for_model.select_dtypes(include=object).columns\n",
        "\n",
        "print(\"Boolean columns:\", boolean_columns)\n",
        "print(\"String columns:\", string_columns)\n"
      ],
      "metadata": {
        "colab": {
          "base_uri": "https://localhost:8080/"
        },
        "id": "54mKAMdjX77G",
        "outputId": "23dba037-f881-406f-a30e-73bc2ec50f78"
      },
      "execution_count": null,
      "outputs": [
        {
          "output_type": "stream",
          "name": "stdout",
          "text": [
            "Boolean columns: Index([], dtype='object')\n",
            "String columns: Index([], dtype='object')\n"
          ]
        }
      ]
    },
    {
      "cell_type": "markdown",
      "source": [
        "#SVM Models (base code)\n"
      ],
      "metadata": {
        "id": "REe001rVjg2-"
      }
    },
    {
      "cell_type": "code",
      "source": [
        "# Drop the target variable from the features.ALSO REPLACE (filtered_data_for_model)with appropriate dataset for svm\n",
        "X = filtered_data_for_model.drop(columns=['Recidivism_Within_3years'])\n",
        "\n",
        "# Extract the target variable\n",
        "y = filtered_data_for_model['Recidivism_Within_3years']\n",
        "\n",
        "# Split the data into training and testing sets\n",
        "X_train, X_test, y_train, y_test = train_test_split(X, y, test_size=0.2, random_state=42)\n"
      ],
      "metadata": {
        "id": "_XpoMCi8jmLy"
      },
      "execution_count": null,
      "outputs": []
    },
    {
      "cell_type": "code",
      "source": [
        " #Define parameter grids for each kernel\n",
        "param_grid_linear = {'C': [0.1, 1, 10, 100]}\n",
        "param_grid_poly = {'C': [0.1, 1, 10, 100], 'degree': [2, 3, 4]}\n",
        "param_grid_rbf = {'C': [0.1, 1, 10, 100], 'gamma': [0.1, 0.01, 0.001]}\n"
      ],
      "metadata": {
        "id": "ZWNHzWssjrX5"
      },
      "execution_count": null,
      "outputs": []
    },
    {
      "cell_type": "code",
      "source": [
        "# Initialize GridSearchCV for each kernel\n",
        "grid_linear = GridSearchCV(SVC(kernel='linear'), param_grid_linear, cv=5)\n",
        "grid_poly = GridSearchCV(SVC(kernel='poly'), param_grid_poly, cv=5)\n",
        "grid_rbf = GridSearchCV(SVC(kernel='rbf'), param_grid_rbf, cv=5)\n",
        "\n",
        "# Fit the GridSearchCV instances\n",
        "grid_linear.fit(X_train, y_train)\n",
        "grid_poly.fit(X_train, y_train)\n",
        "grid_rbf.fit(X_train, y_train)"
      ],
      "metadata": {
        "id": "3o0iQnhRjwNF",
        "colab": {
          "base_uri": "https://localhost:8080/",
          "height": 231
        },
        "outputId": "0fbfbdca-d1c8-4e12-e096-398efd86431d"
      },
      "execution_count": null,
      "outputs": [
        {
          "output_type": "error",
          "ename": "NameError",
          "evalue": "name 'param_grid_linear' is not defined",
          "traceback": [
            "\u001b[0;31m---------------------------------------------------------------------------\u001b[0m",
            "\u001b[0;31mNameError\u001b[0m                                 Traceback (most recent call last)",
            "\u001b[0;32m<ipython-input-11-54b573f051ca>\u001b[0m in \u001b[0;36m<cell line: 2>\u001b[0;34m()\u001b[0m\n\u001b[1;32m      1\u001b[0m \u001b[0;31m# Initialize GridSearchCV for each kernel\u001b[0m\u001b[0;34m\u001b[0m\u001b[0;34m\u001b[0m\u001b[0m\n\u001b[0;32m----> 2\u001b[0;31m \u001b[0mgrid_linear\u001b[0m \u001b[0;34m=\u001b[0m \u001b[0mGridSearchCV\u001b[0m\u001b[0;34m(\u001b[0m\u001b[0mSVC\u001b[0m\u001b[0;34m(\u001b[0m\u001b[0mkernel\u001b[0m\u001b[0;34m=\u001b[0m\u001b[0;34m'linear'\u001b[0m\u001b[0;34m)\u001b[0m\u001b[0;34m,\u001b[0m \u001b[0mparam_grid_linear\u001b[0m\u001b[0;34m,\u001b[0m \u001b[0mcv\u001b[0m\u001b[0;34m=\u001b[0m\u001b[0;36m5\u001b[0m\u001b[0;34m)\u001b[0m\u001b[0;34m\u001b[0m\u001b[0;34m\u001b[0m\u001b[0m\n\u001b[0m\u001b[1;32m      3\u001b[0m \u001b[0mgrid_poly\u001b[0m \u001b[0;34m=\u001b[0m \u001b[0mGridSearchCV\u001b[0m\u001b[0;34m(\u001b[0m\u001b[0mSVC\u001b[0m\u001b[0;34m(\u001b[0m\u001b[0mkernel\u001b[0m\u001b[0;34m=\u001b[0m\u001b[0;34m'poly'\u001b[0m\u001b[0;34m)\u001b[0m\u001b[0;34m,\u001b[0m \u001b[0mparam_grid_poly\u001b[0m\u001b[0;34m,\u001b[0m \u001b[0mcv\u001b[0m\u001b[0;34m=\u001b[0m\u001b[0;36m5\u001b[0m\u001b[0;34m)\u001b[0m\u001b[0;34m\u001b[0m\u001b[0;34m\u001b[0m\u001b[0m\n\u001b[1;32m      4\u001b[0m \u001b[0mgrid_rbf\u001b[0m \u001b[0;34m=\u001b[0m \u001b[0mGridSearchCV\u001b[0m\u001b[0;34m(\u001b[0m\u001b[0mSVC\u001b[0m\u001b[0;34m(\u001b[0m\u001b[0mkernel\u001b[0m\u001b[0;34m=\u001b[0m\u001b[0;34m'rbf'\u001b[0m\u001b[0;34m)\u001b[0m\u001b[0;34m,\u001b[0m \u001b[0mparam_grid_rbf\u001b[0m\u001b[0;34m,\u001b[0m \u001b[0mcv\u001b[0m\u001b[0;34m=\u001b[0m\u001b[0;36m5\u001b[0m\u001b[0;34m)\u001b[0m\u001b[0;34m\u001b[0m\u001b[0;34m\u001b[0m\u001b[0m\n\u001b[1;32m      5\u001b[0m \u001b[0;34m\u001b[0m\u001b[0m\n",
            "\u001b[0;31mNameError\u001b[0m: name 'param_grid_linear' is not defined"
          ]
        }
      ]
    },
    {
      "cell_type": "code",
      "source": [
        "# Get the best parameters and best scores\n",
        "best_params_linear = grid_linear.best_params_\n",
        "best_score_linear = grid_linear.best_score_\n",
        "\n",
        "best_params_poly = grid_poly.best_params_\n",
        "best_score_poly = grid_poly.best_score_\n",
        "\n",
        "best_params_rbf = grid_rbf.best_params_\n",
        "best_score_rbf = grid_rbf.best_score_\n",
        "\n",
        "print(\"Best parameters (Linear Kernel):\", best_params_linear)\n",
        "print(\"Best score (Linear Kernel):\", best_score_linear)\n",
        "\n",
        "print(\"\\nBest parameters (Polynomial Kernel):\", best_params_poly)\n",
        "print(\"Best score (Polynomial Kernel):\", best_score_poly)\n",
        "\n",
        "print(\"\\nBest parameters (RBF Kernel):\", best_params_rbf)\n",
        "print(\"Best score (RBF Kernel):\", best_score_rbf)"
      ],
      "metadata": {
        "id": "83nJ1OZvj0gp"
      },
      "execution_count": null,
      "outputs": []
    },
    {
      "cell_type": "code",
      "source": [
        "# Initialize lists to store the times\n",
        "fit_times = []\n",
        "score_times = []\n",
        "\n",
        "# Initialize SVM models with best parameters\n",
        "svc_linear = SVC(kernel='linear', **best_params_linear)\n",
        "svc_poly = SVC(kernel='poly', **best_params_poly)\n",
        "svc_rbf = SVC(kernel='rbf', **best_params_rbf)\n",
        "\n",
        "# Fit and evaluate the models\n",
        "for model in [svc_linear, svc_poly, svc_rbf]:\n",
        "    start_time = time.time()\n",
        "    model.fit(X_train, y_train)\n",
        "    fit_times.append(time.time() - start_time)\n",
        "\n",
        "    start_time = time.time()\n",
        "    score = model.score(X_test, y_test)\n",
        "    score_times.append(time.time() - start_time)\n",
        "\n",
        "# Print the best scores and fit times\n",
        "print(\"Best score (Linear Kernel):\", linear_score)\n",
        "print(\"Time taken to fit (Linear Kernel):\", fit_times[0])\n",
        "print(\"Time taken to score (Linear Kernel):\", score_times[0])\n",
        "\n",
        "print(\"\\nBest score (Polynomial Kernel):\", poly_score)\n",
        "print(\"Time taken to fit (Polynomial Kernel):\", fit_times[1])\n",
        "print(\"Time taken to score (Polynomial Kernel):\", score_times[1])\n",
        "\n",
        "print(\"\\nBest score (RBF Kernel):\", rbf_score)\n",
        "print(\"Time taken to fit (RBF Kernel):\", fit_times[2])\n",
        "print(\"Time taken to score (RBF Kernel):\", score_times[2])\n"
      ],
      "metadata": {
        "id": "YwIfmwtoj47d"
      },
      "execution_count": null,
      "outputs": []
    },
    {
      "cell_type": "markdown",
      "source": [
        "# SVM Models Full"
      ],
      "metadata": {
        "id": "uLnatgjYYeQe"
      }
    },
    {
      "cell_type": "markdown",
      "source": [
        "## dummy_model_filter"
      ],
      "metadata": {
        "id": "MklN6pWbLbJa"
      }
    },
    {
      "cell_type": "code",
      "source": [
        "# Drop the target variable from the features\n",
        "X = dummy_model_filter.drop(columns=['Recidivism_Within_3years'])\n",
        "\n",
        "# Extract the target variable\n",
        "y = dummy_model_filter['Recidivism_Within_3years']\n",
        "\n",
        "# Split the data into training and testing sets\n",
        "X_train, X_test, y_train, y_test = train_test_split(X, y, test_size=0.2, random_state=42)"
      ],
      "metadata": {
        "id": "1yot8p28Li0v"
      },
      "execution_count": null,
      "outputs": []
    },
    {
      "cell_type": "code",
      "source": [
        "# Define parameter grids for each kernel\n",
        "param_grid_linear = {'C': [0.1, 1, 10, 100]}\n",
        "param_grid_poly = {'C': [0.1, 1, 10, 100], 'degree': [2, 3, 4]}\n",
        "param_grid_rbf = {'C': [0.1, 1, 10, 100], 'gamma': [0.1, 0.01, 0.001]}\n",
        "\n",
        "# Initialize GridSearchCV for each kernel\n",
        "grid_linear = GridSearchCV(SVC(kernel='linear'), param_grid_linear, cv=5)\n",
        "grid_poly = GridSearchCV(SVC(kernel='poly'), param_grid_poly, cv=5)\n",
        "grid_rbf = GridSearchCV(SVC(kernel='rbf'), param_grid_rbf, cv=5)\n",
        "\n",
        "# Fit the GridSearchCV instances\n",
        "grid_linear.fit(X_train, y_train)\n",
        "grid_poly.fit(X_train, y_train)\n",
        "grid_rbf.fit(X_train, y_train)\n"
      ],
      "metadata": {
        "id": "SnPgFNkTMqLe"
      },
      "execution_count": null,
      "outputs": []
    },
    {
      "cell_type": "code",
      "source": [
        "# Get the best parameters and best scores\n",
        "best_params_linear = grid_linear.best_params_\n",
        "best_score_linear = grid_linear.best_score_\n",
        "\n",
        "best_params_poly = grid_poly.best_params_\n",
        "best_score_poly = grid_poly.best_score_\n",
        "\n",
        "best_params_rbf = grid_rbf.best_params_\n",
        "best_score_rbf = grid_rbf.best_score_\n",
        "\n",
        "print(\"Best parameters (Linear Kernel):\", best_params_linear)\n",
        "print(\"Best score (Linear Kernel):\", best_score_linear)\n",
        "\n",
        "print(\"\\nBest parameters (Polynomial Kernel):\", best_params_poly)\n",
        "print(\"Best score (Polynomial Kernel):\", best_score_poly)\n",
        "\n",
        "print(\"\\nBest parameters (RBF Kernel):\", best_params_rbf)\n",
        "print(\"Best score (RBF Kernel):\", best_score_rbf)\n"
      ],
      "metadata": {
        "id": "VezsZ2tJMsAe"
      },
      "execution_count": null,
      "outputs": []
    },
    {
      "cell_type": "code",
      "source": [
        "# Initialize lists to store the times\n",
        "fit_times = []\n",
        "score_times = []\n",
        "\n",
        "# Initialize SVM models with best parameters\n",
        "svc_linear = SVC(kernel='linear', **best_params_linear)\n",
        "svc_poly = SVC(kernel='poly', **best_params_poly)\n",
        "svc_rbf = SVC(kernel='rbf', **best_params_rbf)\n",
        "\n",
        "# Fit and evaluate the models\n",
        "for model in [svc_linear, svc_poly, svc_rbf]:\n",
        "    start_time = time.time()\n",
        "    model.fit(X_train, y_train)\n",
        "    fit_times.append(time.time() - start_time)\n",
        "\n",
        "    start_time = time.time()\n",
        "    score = model.score(X_test, y_test)\n",
        "    score_times.append(time.time() - start_time)\n",
        "\n",
        "# Print the best scores and fit times\n",
        "print(\"Best score (Linear Kernel):\", best_score_linear)\n",
        "print(\"Time taken to fit (Linear Kernel):\", fit_times[0])\n",
        "print(\"Time taken to score (Linear Kernel):\", score_times[0])\n",
        "\n",
        "print(\"\\nBest score (Polynomial Kernel):\", best_score_poly)\n",
        "print(\"Time taken to fit (Polynomial Kernel):\", fit_times[1])\n",
        "print(\"Time taken to score (Polynomial Kernel):\", score_times[1])\n",
        "\n",
        "print(\"\\nBest score (RBF Kernel):\", best_score_rbf)\n",
        "print(\"Time taken to fit (RBF Kernel):\", fit_times[2])\n",
        "print(\"Time taken to score (RBF Kernel):\", score_times[2])"
      ],
      "metadata": {
        "id": "J6g2w7bpMr0n"
      },
      "execution_count": null,
      "outputs": []
    },
    {
      "cell_type": "markdown",
      "source": [
        "## dummy_model_filter_scaled"
      ],
      "metadata": {
        "id": "3HHIqZjhLlHj"
      }
    },
    {
      "cell_type": "code",
      "source": [
        "# Drop the target variable from the features\n",
        "X = dummy_model_filter_scaled.drop(columns=['Recidivism_Within_3years'])\n",
        "\n",
        "# Extract the target variable\n",
        "y = dummy_model_filter_scaled['Recidivism_Within_3years']\n",
        "\n",
        "# Split the data into training and testing sets\n",
        "X_train, X_test, y_train, y_test = train_test_split(X, y, test_size=0.2, random_state=42)"
      ],
      "metadata": {
        "id": "BPqnkv1GLoBG"
      },
      "execution_count": null,
      "outputs": []
    },
    {
      "cell_type": "code",
      "source": [
        "# Define parameter grids for each kernel\n",
        "param_grid_linear = {'C': [0.1, 1, 10, 100]}\n",
        "param_grid_poly = {'C': [0.1, 1, 10, 100], 'degree': [2, 3, 4]}\n",
        "param_grid_rbf = {'C': [0.1, 1, 10, 100], 'gamma': [0.1, 0.01, 0.001]}\n",
        "\n",
        "# Initialize GridSearchCV for each kernel\n",
        "grid_linear = GridSearchCV(SVC(kernel='linear'), param_grid_linear, cv=5)\n",
        "grid_poly = GridSearchCV(SVC(kernel='poly'), param_grid_poly, cv=5)\n",
        "grid_rbf = GridSearchCV(SVC(kernel='rbf'), param_grid_rbf, cv=5)\n",
        "\n",
        "# Fit the GridSearchCV instances\n",
        "grid_linear.fit(X_train, y_train)\n",
        "grid_poly.fit(X_train, y_train)\n",
        "grid_rbf.fit(X_train, y_train)\n"
      ],
      "metadata": {
        "id": "V4OdtyUzM2LK"
      },
      "execution_count": null,
      "outputs": []
    },
    {
      "cell_type": "code",
      "source": [
        "# Get the best parameters and best scores\n",
        "best_params_linear = grid_linear.best_params_\n",
        "best_score_linear = grid_linear.best_score_\n",
        "\n",
        "best_params_poly = grid_poly.best_params_\n",
        "best_score_poly = grid_poly.best_score_\n",
        "\n",
        "best_params_rbf = grid_rbf.best_params_\n",
        "best_score_rbf = grid_rbf.best_score_\n",
        "\n",
        "print(\"Best parameters (Linear Kernel):\", best_params_linear)\n",
        "print(\"Best score (Linear Kernel):\", best_score_linear)\n",
        "\n",
        "print(\"\\nBest parameters (Polynomial Kernel):\", best_params_poly)\n",
        "print(\"Best score (Polynomial Kernel):\", best_score_poly)\n",
        "\n",
        "print(\"\\nBest parameters (RBF Kernel):\", best_params_rbf)\n",
        "print(\"Best score (RBF Kernel):\", best_score_rbf)\n"
      ],
      "metadata": {
        "id": "wrTFEjD3M1-7"
      },
      "execution_count": null,
      "outputs": []
    },
    {
      "cell_type": "code",
      "source": [
        "# Initialize lists to store the times\n",
        "fit_times = []\n",
        "score_times = []\n",
        "\n",
        "# Initialize SVM models with best parameters\n",
        "svc_linear = SVC(kernel='linear', **best_params_linear)\n",
        "svc_poly = SVC(kernel='poly', **best_params_poly)\n",
        "svc_rbf = SVC(kernel='rbf', **best_params_rbf)\n",
        "\n",
        "# Fit and evaluate the models\n",
        "for model in [svc_linear, svc_poly, svc_rbf]:\n",
        "    start_time = time.time()\n",
        "    model.fit(X_train, y_train)\n",
        "    fit_times.append(time.time() - start_time)\n",
        "\n",
        "    start_time = time.time()\n",
        "    score = model.score(X_test, y_test)\n",
        "    score_times.append(time.time() - start_time)\n",
        "\n",
        "# Print the best scores and fit times\n",
        "print(\"Best score (Linear Kernel):\", best_score_linear)\n",
        "print(\"Time taken to fit (Linear Kernel):\", fit_times[0])\n",
        "print(\"Time taken to score (Linear Kernel):\", score_times[0])\n",
        "\n",
        "print(\"\\nBest score (Polynomial Kernel):\", best_score_poly)\n",
        "print(\"Time taken to fit (Polynomial Kernel):\", fit_times[1])\n",
        "print(\"Time taken to score (Polynomial Kernel):\", score_times[1])\n",
        "\n",
        "print(\"\\nBest score (RBF Kernel):\", best_score_rbf)\n",
        "print(\"Time taken to fit (RBF Kernel):\", fit_times[2])\n",
        "print(\"Time taken to score (RBF Kernel):\", score_times[2])"
      ],
      "metadata": {
        "id": "5oTtHrx1M12O"
      },
      "execution_count": null,
      "outputs": []
    }
  ]
}